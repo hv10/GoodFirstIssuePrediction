{
 "cells": [
  {
   "cell_type": "markdown",
   "source": [
    "## Issue Resolution Time as an Indicator for Complexity\n",
    "\n",
    "We will use the Mann Whitney Ranksum U Test as our test of choice as we can not easily assume normality in our data."
   ],
   "metadata": {
    "collapsed": false,
    "pycharm": {
     "name": "#%% md\n"
    }
   }
  },
  {
   "cell_type": "code",
   "execution_count": 257,
   "outputs": [],
   "source": [
    "import yaml\n",
    "import pandas as pd\n",
    "import numpy as np\n",
    "import matplotlib.pyplot as plt\n",
    "from pathlib import Path\n",
    "import datetime\n",
    "import re\n",
    "from scipy.stats import mannwhitneyu\n",
    "\n",
    "plt.style.use('seaborn-deep')\n",
    "\n",
    "noteb_dir = Path().resolve()\n",
    "plot_dir = noteb_dir / \"plots\"\n",
    "plot_dir.mkdir(exist_ok=True)"
   ],
   "metadata": {
    "collapsed": false,
    "pycharm": {
     "name": "#%%\n"
    }
   }
  },
  {
   "cell_type": "markdown",
   "source": [
    "We will load the data from two csv files containing:\n",
    "\n",
    " - Issues with the label \"good first issues\" (df_gfi.csv)\n",
    " - Issues without said label. (df_ngfi.csv)"
   ],
   "metadata": {
    "collapsed": false,
    "pycharm": {
     "name": "#%% md\n"
    }
   }
  },
  {
   "cell_type": "code",
   "execution_count": 258,
   "outputs": [],
   "source": [
    "\n",
    "regex = re.compile(r'((?P<days>\\d+)\\sdays)\\s(?P<hours>\\d+):(?P<minutes>\\d+):(?P<seconds>\\d+).')\n",
    "def parse_time(time_str):\n",
    "    parts = regex.match(time_str)\n",
    "    if not parts:\n",
    "        return\n",
    "    parts = parts.groupdict()\n",
    "    time_params = {}\n",
    "    for (name, param) in parts.items():\n",
    "        if param:\n",
    "            time_params[name] = int(param)\n",
    "    return datetime.timedelta(**time_params).total_seconds()"
   ],
   "metadata": {
    "collapsed": false,
    "pycharm": {
     "name": "#%%\n"
    }
   }
  },
  {
   "cell_type": "code",
   "execution_count": 259,
   "outputs": [],
   "source": [
    "\n",
    "# Load the non_good_first_issue data\n",
    "df_ngfi = pd.read_csv(noteb_dir / \"df_ngfi_1000.csv\")\n",
    "df_ngfi.loc[:, 'res_time'] = df_ngfi[\"res_time\"].apply(parse_time)\n",
    "\n",
    "# Load the good_first_issue data\n",
    "df_gfi = pd.read_csv(noteb_dir / \"df_gfi_1000.csv\")\n",
    "df_gfi.loc[:, 'res_time'] = df_gfi[\"res_time\"].apply(parse_time)"
   ],
   "metadata": {
    "collapsed": false,
    "pycharm": {
     "name": "#%%\n"
    }
   }
  },
  {
   "cell_type": "markdown",
   "source": [
    "After loading the data we could just apply the Mann-Whitney U Test as it does not need any prior assumptions about our data.\n",
    "But let us explore the data a bit first.\n",
    "\n",
    "First lets have a look at the distirbution of resolution times:"
   ],
   "metadata": {
    "collapsed": false,
    "pycharm": {
     "name": "#%% md\n"
    }
   }
  },
  {
   "cell_type": "code",
   "execution_count": 260,
   "outputs": [
    {
     "data": {
      "text/plain": "<Figure size 864x432 with 1 Axes>",
      "image/png": "[encoded data removed]"
     },
     "metadata": {
      "needs_background": "light"
     },
     "output_type": "display_data"
    }
   ],
   "source": [
    "# Show Histograms of the NGFI-Data\n",
    "plt.figure(figsize=(12,6))\n",
    "plt.hist(df_ngfi[\"res_time\"], bins=\"auto\")\n",
    "plt.title(\"Resolution Time Histogram\")\n",
    "ax = plt.gca()\n",
    "plt.setp(ax.get_xticklabels(), rotation=30, ha=\"right\")\n",
    "plt.savefig(plot_dir / \"fig_hist_rest_ngfi.png\")\n",
    "plt.show()"
   ],
   "metadata": {
    "collapsed": false,
    "pycharm": {
     "name": "#%%\n"
    }
   }
  },
  {
   "cell_type": "code",
   "execution_count": 261,
   "outputs": [
    {
     "data": {
      "text/plain": "<Figure size 864x432 with 1 Axes>",
      "image/png": "[encoded data removed]"
     },
     "metadata": {
      "needs_background": "light"
     },
     "output_type": "display_data"
    }
   ],
   "source": [
    "# Show Histograms of the GFI-Data\n",
    "plt.figure(figsize=(12,6))\n",
    "plt.hist(df_gfi[\"res_time\"], bins=\"auto\")\n",
    "plt.title(\"Resolution Time Histogram\")\n",
    "ax = plt.gca()\n",
    "plt.setp(ax.get_xticklabels(), rotation=30, ha=\"right\")\n",
    "plt.savefig(plot_dir / \"fig_hist_rest_gfi.png\")\n",
    "plt.show()"
   ],
   "metadata": {
    "collapsed": false,
    "pycharm": {
     "name": "#%%\n"
    }
   }
  },
  {
   "cell_type": "code",
   "execution_count": 262,
   "outputs": [
    {
     "data": {
      "text/plain": "<Figure size 864x432 with 1 Axes>",
      "image/png": "[encoded data removed]"
     },
     "metadata": {
      "needs_background": "light"
     },
     "output_type": "display_data"
    }
   ],
   "source": [
    "# Show a combined histogram\n",
    "plt.figure(figsize=(12,6))\n",
    "plt.hist([df_gfi[\"res_time\"], df_ngfi[\"res_time\"]], bins=\"auto\", label=[\"GFI\", \"NGFI\"], density=True)\n",
    "plt.title(\"Resolution Time Combined Histogram\")\n",
    "ax = plt.gca()\n",
    "plt.setp(ax.get_xticklabels(), rotation=30, ha=\"right\")\n",
    "plt.legend(loc='upper right')\n",
    "plt.savefig(plot_dir / \"fig_hist_rest_comb_gfi.png\")\n",
    "plt.show()"
   ],
   "metadata": {
    "collapsed": false,
    "pycharm": {
     "name": "#%%\n"
    }
   }
  },
  {
   "cell_type": "markdown",
   "source": [
    "As we can see from both examples the data is by far not normally distributed.\n",
    "Which makes sense if one considers that we cannot have negative resolution,\n",
    "and that the resolution time is expected to get more sparse over time.\n",
    "\n",
    "We can now apply the Mann-Whitney U Test on the data:"
   ],
   "metadata": {
    "collapsed": false,
    "pycharm": {
     "name": "#%% md\n"
    }
   }
  },
  {
   "cell_type": "code",
   "execution_count": 263,
   "outputs": [
    {
     "name": "stdout",
     "output_type": "stream",
     "text": [
      "685108.0 1.3266214844741043e-46\n"
     ]
    }
   ],
   "source": [
    "# two sided mann whitney test\n",
    "statistic, p_value = mannwhitneyu(df_gfi[\"res_time\"],df_ngfi[\"res_time\"], alternative=\"two-sided\")\n",
    "print(statistic, p_value)"
   ],
   "metadata": {
    "collapsed": false,
    "pycharm": {
     "name": "#%%\n"
    }
   }
  },
  {
   "cell_type": "markdown",
   "source": [
    "We check if our good first issues are different in median resolution time from the non labeled data.\n",
    "As the p-value is way below $\\alpha=0.05$ we reject the $H_0$,\n",
    "therefore we can assume that there exists a difference in medians.\n",
    "\n",
    "We now check if the resolution time is greater or smaller by doing a one-sided Mann Whitney Test:"
   ],
   "metadata": {
    "collapsed": false,
    "pycharm": {
     "name": "#%% md\n"
    }
   }
  },
  {
   "cell_type": "code",
   "execution_count": 264,
   "outputs": [
    {
     "name": "stdout",
     "output_type": "stream",
     "text": [
      "685108.0 6.633107422370522e-47\n"
     ]
    }
   ],
   "source": [
    "# one sided mann whitney test\n",
    "statistic, p_value = mannwhitneyu(df_gfi[\"res_time\"],df_ngfi[\"res_time\"], alternative=\"greater\")\n",
    "print(statistic, p_value)"
   ],
   "metadata": {
    "collapsed": false,
    "pycharm": {
     "name": "#%%\n"
    }
   }
  },
  {
   "cell_type": "markdown",
   "source": [
    "We can again see that the p-value is way below the $\\alpha=0.05$ threshold.\n",
    "Therefore we can assume that issues having the label good first issue, in general, take less time to be resolved.\n",
    "\n",
    "This result may seem like a good singular predictor but we can not safely exclude\n",
    "the fact that the existence of such a label can inform a users decision to work on that issue.\n",
    "\n",
    "We should also have a look at the corresponding boxplot to get a better image of the difference:"
   ],
   "metadata": {
    "collapsed": false
   }
  },
  {
   "cell_type": "code",
   "execution_count": 265,
   "outputs": [
    {
     "data": {
      "text/plain": "<Figure size 432x576 with 1 Axes>",
      "image/png": "[encoded data removed]"
     },
     "metadata": {
      "needs_background": "light"
     },
     "output_type": "display_data"
    }
   ],
   "source": [
    "plt.figure(figsize=(6,8))\n",
    "plt.title(\"Box Plot for Resolution Time\")\n",
    "plt.boxplot([df_gfi[\"n_comments\"], df_ngfi[\"n_comments\"]], notch=True, labels=[\"GFI\", \"NGFI\"])\n",
    "plt.savefig(plot_dir / \"fig_box_rest.png\")\n",
    "plt.show()"
   ],
   "metadata": {
    "collapsed": false,
    "pycharm": {
     "name": "#%%\n"
    }
   }
  }
 ],
 "metadata": {
  "kernelspec": {
   "display_name": "Python 3",
   "language": "python",
   "name": "python3"
  },
  "language_info": {
   "codemirror_mode": {
    "name": "ipython",
    "version": 2
   },
   "file_extension": ".py",
   "mimetype": "text/x-python",
   "name": "python",
   "nbconvert_exporter": "python",
   "pygments_lexer": "ipython2",
   "version": "2.7.6"
  }
 },
 "nbformat": 4,
 "nbformat_minor": 0
}