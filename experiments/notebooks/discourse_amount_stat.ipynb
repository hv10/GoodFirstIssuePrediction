{
 "cells": [
  {
   "cell_type": "markdown",
   "source": [
    "## Discussion Amount as a Indicator for Complexity\n",
    "\n",
    "We will use the Mann Whitney Ranksum U Test as our test of choice as we can not easily assume normality in our data."
   ],
   "metadata": {
    "collapsed": false,
    "pycharm": {
     "name": "#%% md\n"
    }
   }
  },
  {
   "cell_type": "code",
   "execution_count": 3,
   "outputs": [],
   "source": [
    "import yaml\n",
    "import pandas as pd\n",
    "import numpy as np\n",
    "import matplotlib.pyplot as plt\n",
    "from pathlib import Path\n",
    "import datetime\n",
    "import re\n",
    "from scipy.stats import mannwhitneyu"
   ],
   "metadata": {
    "collapsed": false,
    "pycharm": {
     "name": "#%%\n"
    }
   }
  },
  {
   "cell_type": "markdown",
   "source": [
    "We will load the data from two csv files containing:\n",
    "\n",
    " - Issues with the label \"good first issues\" (df_gfi.csv)\n",
    " - Issues without said label. (df_ngfi.csv)"
   ],
   "metadata": {
    "collapsed": false,
    "pycharm": {
     "name": "#%% md\n"
    }
   }
  },
  {
   "cell_type": "code",
   "execution_count": 5,
   "outputs": [],
   "source": [
    "regex = re.compile(r'((?P<days>\\d+)\\sdays)\\s(?P<hours>\\d+):(?P<minutes>\\d+):(?P<seconds>\\d+).')\n",
    "def parse_time(time_str):\n",
    "    parts = regex.match(time_str)\n",
    "    if not parts:\n",
    "        return\n",
    "    parts = parts.groupdict()\n",
    "    time_params = {}\n",
    "    for (name, param) in parts.items():\n",
    "        if param:\n",
    "            time_params[name] = int(param)\n",
    "    return datetime.timedelta(**time_params).total_seconds()"
   ],
   "metadata": {
    "collapsed": false,
    "pycharm": {
     "name": "#%%\n"
    }
   }
  },
  {
   "cell_type": "code",
   "execution_count": 18,
   "outputs": [],
   "source": [
    "\n",
    "# Load the non_good_first_issue data\n",
    "df_ngfi = pd.read_csv(Path().resolve() / \"df_ngfi.csv\")\n",
    "df_ngfi.loc[:, 'res_time'] = df_ngfi[\"res_time\"].apply(parse_time)\n",
    "\n",
    "# Load the good_first_issue data\n",
    "df_gfi = pd.read_csv(Path().resolve() / \"df_gfi.csv\")\n",
    "df_gfi.loc[:, 'res_time'] = df_gfi[\"res_time\"].apply(parse_time)"
   ],
   "metadata": {
    "collapsed": false,
    "pycharm": {
     "name": "#%%\n"
    }
   }
  },
  {
   "cell_type": "markdown",
   "source": [
    "After loading the data we could just apply the Mann-Whitney U Test as it does not need any prior assumptions about our data.\n",
    "But let us explore the data a bit first.\n",
    "\n",
    "First lets have a look at the distirbution of resolution times:"
   ],
   "metadata": {
    "collapsed": false,
    "pycharm": {
     "name": "#%% md\n"
    }
   }
  },
  {
   "cell_type": "code",
   "execution_count": 14,
   "outputs": [
    {
     "data": {
      "text/plain": "<Figure size 864x432 with 1 Axes>",
      "image/png": "[encoded data removed]"
     },
     "metadata": {
      "needs_background": "light"
     },
     "output_type": "display_data"
    }
   ],
   "source": [
    "# Show Histograms of the NGFI-Data\n",
    "plt.figure(figsize=(12,6))\n",
    "plt.hist(df_ngfi[\"n_comments\"], bins=\"auto\")\n",
    "plt.title(\"Comment Amount Histogram\")\n",
    "ax = plt.gca()\n",
    "plt.setp(ax.get_xticklabels(), rotation=30, ha=\"right\")\n",
    "# plt.savefig(\"fig_hist_ngfi.png\")\n",
    "plt.show()"
   ],
   "metadata": {
    "collapsed": false,
    "pycharm": {
     "name": "#%%\n"
    }
   }
  },
  {
   "cell_type": "code",
   "execution_count": 13,
   "outputs": [
    {
     "data": {
      "text/plain": "<Figure size 864x432 with 1 Axes>",
      "image/png": "[encoded data removed]"
     },
     "metadata": {
      "needs_background": "light"
     },
     "output_type": "display_data"
    }
   ],
   "source": [
    "# Show Histograms of the GFI-Data\n",
    "plt.figure(figsize=(12,6))\n",
    "plt.hist(df_gfi[\"n_comments\"], bins=\"auto\")\n",
    "plt.title(\"Comment Amount Histogram\")\n",
    "ax = plt.gca()\n",
    "plt.setp(ax.get_xticklabels(), rotation=30, ha=\"right\")\n",
    "# plt.savefig(\"fig_hist_ngfi.png\")\n",
    "plt.show()"
   ],
   "metadata": {
    "collapsed": false,
    "pycharm": {
     "name": "#%%\n"
    }
   }
  },
  {
   "cell_type": "markdown",
   "source": [
    "As we can see from both examples the data is by far not normally distributed.\n",
    "Which makes sense if one considers that we cannot have negative resolution,\n",
    "and that the resolution time is expected to get more sparse over time.\n",
    "\n",
    "We can now apply the Mann-Whitney U Test on the data:"
   ],
   "metadata": {
    "collapsed": false,
    "pycharm": {
     "name": "#%% md\n"
    }
   }
  },
  {
   "cell_type": "code",
   "execution_count": 17,
   "outputs": [
    {
     "name": "stdout",
     "output_type": "stream",
     "text": [
      "10231.5 0.314356369001069\n"
     ]
    }
   ],
   "source": [
    "# two sided mann whitney test\n",
    "statistic, p_value = mannwhitneyu(df_gfi[\"n_comments\"],df_ngfi[\"n_comments\"], alternative=\"two-sided\")\n",
    "print(statistic, p_value)"
   ],
   "metadata": {
    "collapsed": false,
    "pycharm": {
     "name": "#%%\n"
    }
   }
  },
  {
   "cell_type": "markdown",
   "source": [
    "We check if our good first issues are different in median comment amount from the non labeled data.\n",
    "As the p-value is above $\\alpha=0.05$ we cannot reject the $H_0$,\n",
    "therefore we can not assume that there exists a difference in medians.\n",
    "\n",
    "This does not necessarily mean that comments do not have influence\n",
    "on our ability to discover beginner friendly tasks.\n",
    "It does however mean that the mere presence of comments\n",
    "does not immediately help in predicting the complexity of a task."
   ],
   "metadata": {
    "collapsed": false,
    "pycharm": {
     "name": "#%% md\n"
    }
   }
  }
 ],
 "metadata": {
  "kernelspec": {
   "display_name": "Python 3",
   "language": "python",
   "name": "python3"
  },
  "language_info": {
   "codemirror_mode": {
    "name": "ipython",
    "version": 2
   },
   "file_extension": ".py",
   "mimetype": "text/x-python",
   "name": "python",
   "nbconvert_exporter": "python",
   "pygments_lexer": "ipython2",
   "version": "2.7.6"
  }
 },
 "nbformat": 4,
 "nbformat_minor": 0
}